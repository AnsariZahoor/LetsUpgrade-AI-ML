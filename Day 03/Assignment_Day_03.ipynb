{
  "nbformat": 4,
  "nbformat_minor": 0,
  "metadata": {
    "colab": {
      "name": "Assignment Day 03.ipynb",
      "provenance": [],
      "collapsed_sections": []
    },
    "kernelspec": {
      "name": "python3",
      "display_name": "Python 3"
    }
  },
  "cells": [
    {
      "cell_type": "markdown",
      "metadata": {
        "id": "Y5yzy_ma8lcr",
        "colab_type": "text"
      },
      "source": [
        "#Assignment Day 03"
      ]
    },
    {
      "cell_type": "markdown",
      "metadata": {
        "id": "Qlzan0YM8l29",
        "colab_type": "text"
      },
      "source": [
        "###**Q1. Write a program to Subtract two complex numbers in python**\n",
        "---\n",
        " "
      ]
    },
    {
      "cell_type": "code",
      "metadata": {
        "id": "bld8_YuJ8CI9",
        "colab_type": "code",
        "colab": {
          "base_uri": "https://localhost:8080/",
          "height": 35
        },
        "outputId": "4c3153c4-44ff-4438-c36a-c30163f9aa9d"
      },
      "source": [
        "a = 6 + 3j\n",
        "b = 3 + 4j\n",
        "c = a - b\n",
        "print(\"Subtraction of two complex numbers :\",c )"
      ],
      "execution_count": null,
      "outputs": [
        {
          "output_type": "stream",
          "text": [
            "Subtraction of two complex numbers : (3-1j)\n"
          ],
          "name": "stdout"
        }
      ]
    },
    {
      "cell_type": "markdown",
      "metadata": {
        "id": "LH1pDhx4-qLp",
        "colab_type": "text"
      },
      "source": [
        "###**Q2. Write a program to find fourth root of a number ***\n",
        "---\n",
        "\n",
        "\n"
      ]
    },
    {
      "cell_type": "code",
      "metadata": {
        "id": "LIN4s4oJ--VI",
        "colab_type": "code",
        "colab": {
          "base_uri": "https://localhost:8080/",
          "height": 35
        },
        "outputId": "d802e72d-20ec-4133-db5f-0a6e31305913"
      },
      "source": [
        "num = 256\n",
        "answer = num**(1/4)\n",
        "print ('Fourth root of',num,'is',answer )"
      ],
      "execution_count": null,
      "outputs": [
        {
          "output_type": "stream",
          "text": [
            "Fourth root of 256 is 4.0\n"
          ],
          "name": "stdout"
        }
      ]
    },
    {
      "cell_type": "markdown",
      "metadata": {
        "id": "NPherlEcG3mj",
        "colab_type": "text"
      },
      "source": [
        "###***Q3. Write a program to swap two numbers in python with the help of a temporary varaible***\n",
        "---"
      ]
    },
    {
      "cell_type": "code",
      "metadata": {
        "id": "1nV_EBVBKlA9",
        "colab_type": "code",
        "colab": {
          "base_uri": "https://localhost:8080/",
          "height": 90
        },
        "outputId": "ef0d9575-ae2a-4858-f856-c0217fbd3bc7"
      },
      "source": [
        "a = 12\n",
        "b = 5\n",
        "\n",
        "temp = a\n",
        "a = b\n",
        "b = temp\n",
        "\n",
        "print('a before swapping : 12')\n",
        "print('a after swapping : ',a)\n",
        "\n",
        "print('b before swapping : 5')\n",
        "print('b after swapping : ',b)"
      ],
      "execution_count": null,
      "outputs": [
        {
          "output_type": "stream",
          "text": [
            "a before swapping : 12\n",
            "a after swapping :  5\n",
            "b before swapping : 5\n",
            "b after swapping :  12\n"
          ],
          "name": "stdout"
        }
      ]
    },
    {
      "cell_type": "markdown",
      "metadata": {
        "id": "lqlqnbatHOJM",
        "colab_type": "text"
      },
      "source": [
        "###***Q4. Write a program to swap two numbers in python without using a temporary varaible***\n",
        "---"
      ]
    },
    {
      "cell_type": "code",
      "metadata": {
        "id": "yEbdYVdRLhLz",
        "colab_type": "code",
        "colab": {
          "base_uri": "https://localhost:8080/",
          "height": 90
        },
        "outputId": "8937cbfb-416b-44f6-e141-05886490b023"
      },
      "source": [
        "a = 12\n",
        "b = 10\n",
        "\n",
        "a, b = b, a\n",
        "\n",
        "print('a before swapping : 12')\n",
        "print('a after swapping : ',a)\n",
        "\n",
        "print('b before swapping : 10')\n",
        "print('b after swapping : ',b)"
      ],
      "execution_count": null,
      "outputs": [
        {
          "output_type": "stream",
          "text": [
            "a before swapping : 12\n",
            "a after swapping :  10\n",
            "b before swapping : 10\n",
            "b after swapping :  12\n"
          ],
          "name": "stdout"
        }
      ]
    },
    {
      "cell_type": "markdown",
      "metadata": {
        "id": "jd2W1j4MHier",
        "colab_type": "text"
      },
      "source": [
        "###***Q5. Write a program to convert fahrenheit to kelvin and celsius both***\n",
        "---"
      ]
    },
    {
      "cell_type": "code",
      "metadata": {
        "id": "un2m4NQZM1rn",
        "colab_type": "code",
        "colab": {
          "base_uri": "https://localhost:8080/",
          "height": 54
        },
        "outputId": "dfd65ecb-7bbd-4013-bdb4-f603c118b109"
      },
      "source": [
        "# fahrenheit to kelvin\n",
        "fahrenheit = 80\n",
        "kelvin = ((fahrenheit - 32.0) * (5.0/9.0) + 273.15) \n",
        "print(fahrenheit,'Fahrenheit is :',kelvin,'Kelvin')\n",
        "\n",
        "\n",
        "# fahrenheit to celsius\n",
        "fahrenheit = 70\n",
        "celsius = (fahrenheit - 32) * 5/9\n",
        "print(fahrenheit,'Fahrenheit is :',celsius,'Celsius')"
      ],
      "execution_count": null,
      "outputs": [
        {
          "output_type": "stream",
          "text": [
            "80 Fahrenheit is : 299.81666666666666 Kelvin\n",
            "70 Fahrenheit is : 21.11111111111111 Celsius\n"
          ],
          "name": "stdout"
        }
      ]
    },
    {
      "cell_type": "markdown",
      "metadata": {
        "id": "rUH6ZEb7ItXV",
        "colab_type": "text"
      },
      "source": [
        "###***Q6. Write a program to demonstrate all the available data types in python. Hint use type() function***\n",
        "---"
      ]
    },
    {
      "cell_type": "code",
      "metadata": {
        "id": "14VUH2dLP0V2",
        "colab_type": "code",
        "colab": {
          "base_uri": "https://localhost:8080/",
          "height": 35
        },
        "outputId": "696dc474-30ce-4c88-ce50-9b1e17e0dd3f"
      },
      "source": [
        "a = 7\n",
        "type(a)"
      ],
      "execution_count": null,
      "outputs": [
        {
          "output_type": "execute_result",
          "data": {
            "text/plain": [
              "int"
            ]
          },
          "metadata": {
            "tags": []
          },
          "execution_count": 52
        }
      ]
    },
    {
      "cell_type": "code",
      "metadata": {
        "id": "JXDOuVjIQEXc",
        "colab_type": "code",
        "colab": {
          "base_uri": "https://localhost:8080/",
          "height": 35
        },
        "outputId": "3c4abad8-afa0-4761-e736-2c736763a3d7"
      },
      "source": [
        "b = 12.44\n",
        "type(b)"
      ],
      "execution_count": null,
      "outputs": [
        {
          "output_type": "execute_result",
          "data": {
            "text/plain": [
              "float"
            ]
          },
          "metadata": {
            "tags": []
          },
          "execution_count": 51
        }
      ]
    },
    {
      "cell_type": "code",
      "metadata": {
        "id": "ZpNqDO1nQLVy",
        "colab_type": "code",
        "colab": {
          "base_uri": "https://localhost:8080/",
          "height": 35
        },
        "outputId": "24bfc7ae-7c86-4ad4-f7ee-2e057051fc88"
      },
      "source": [
        "c = 2 + 5j\n",
        "type(c)"
      ],
      "execution_count": null,
      "outputs": [
        {
          "output_type": "execute_result",
          "data": {
            "text/plain": [
              "complex"
            ]
          },
          "metadata": {
            "tags": []
          },
          "execution_count": 53
        }
      ]
    },
    {
      "cell_type": "code",
      "metadata": {
        "id": "ZLuc4a3PQQxE",
        "colab_type": "code",
        "colab": {
          "base_uri": "https://localhost:8080/",
          "height": 35
        },
        "outputId": "b8322f41-4f3d-421a-8487-e8a2c9702117"
      },
      "source": [
        "d = True\n",
        "type(d)"
      ],
      "execution_count": null,
      "outputs": [
        {
          "output_type": "execute_result",
          "data": {
            "text/plain": [
              "bool"
            ]
          },
          "metadata": {
            "tags": []
          },
          "execution_count": 55
        }
      ]
    },
    {
      "cell_type": "code",
      "metadata": {
        "id": "XbSF06dZQcWD",
        "colab_type": "code",
        "colab": {
          "base_uri": "https://localhost:8080/",
          "height": 35
        },
        "outputId": "910f9594-f215-4fe4-e088-1ecd34989d50"
      },
      "source": [
        " e ='I love to learn with LetsUpgrade'\n",
        " type(e)"
      ],
      "execution_count": null,
      "outputs": [
        {
          "output_type": "execute_result",
          "data": {
            "text/plain": [
              "str"
            ]
          },
          "metadata": {
            "tags": []
          },
          "execution_count": 56
        }
      ]
    },
    {
      "cell_type": "code",
      "metadata": {
        "id": "NSms5U9CRUMQ",
        "colab_type": "code",
        "colab": {
          "base_uri": "https://localhost:8080/",
          "height": 35
        },
        "outputId": "caa25b15-4165-4353-e9a0-3e6b4bab3ac5"
      },
      "source": [
        "f = [1,2,3,4,'hello']\n",
        "type(f)"
      ],
      "execution_count": null,
      "outputs": [
        {
          "output_type": "execute_result",
          "data": {
            "text/plain": [
              "list"
            ]
          },
          "metadata": {
            "tags": []
          },
          "execution_count": 57
        }
      ]
    },
    {
      "cell_type": "code",
      "metadata": {
        "id": "7YcJqYFgReA9",
        "colab_type": "code",
        "colab": {
          "base_uri": "https://localhost:8080/",
          "height": 35
        },
        "outputId": "65a64837-ab16-41a7-a5e8-a6261af521af"
      },
      "source": [
        "g = (1,2,'hey')\n",
        "type(g)"
      ],
      "execution_count": null,
      "outputs": [
        {
          "output_type": "execute_result",
          "data": {
            "text/plain": [
              "tuple"
            ]
          },
          "metadata": {
            "tags": []
          },
          "execution_count": 58
        }
      ]
    },
    {
      "cell_type": "code",
      "metadata": {
        "id": "mp0YkWweRk4H",
        "colab_type": "code",
        "colab": {
          "base_uri": "https://localhost:8080/",
          "height": 35
        },
        "outputId": "3508492a-71ee-48ed-dd69-32b2e496c6de"
      },
      "source": [
        "h = {1:\"Zahoor\", 2:\"AiMl\", 3:\"Letsupgrade\"}\n",
        "type(h)"
      ],
      "execution_count": null,
      "outputs": [
        {
          "output_type": "execute_result",
          "data": {
            "text/plain": [
              "dict"
            ]
          },
          "metadata": {
            "tags": []
          },
          "execution_count": 60
        }
      ]
    },
    {
      "cell_type": "markdown",
      "metadata": {
        "id": "caxn9JqGI8Tw",
        "colab_type": "text"
      },
      "source": [
        "###***Q7. Create a Markdown cell in jupyter and list the steps discussed in the session by Dr. Darshan Ingle sir to create Github profile and upload Githubs Assignment link***\n",
        "---"
      ]
    },
    {
      "cell_type": "markdown",
      "metadata": {
        "id": "pRj55IHF44nK",
        "colab_type": "text"
      },
      "source": [
        "1. Create a Github profile\n",
        "   click sign up - fill the details\n",
        "    -  a. username\n",
        "    -  b. Email\n",
        "    -  c. Password\n",
        "   - if you have already Github profile then you have to \n",
        "   click sign in\n",
        "\n",
        "2. Create a folder in your computer.  example:Day 03. \n",
        "   In this folder we have to store Day 03 assignment file.\n",
        "\n",
        "3. Go to the Github profile. Create a new repository.\n",
        "   - Repository name - LetsUpgrade AI-ML (compulsory) \n",
        "   - Description - Assignments\n",
        "   - By default - public\n",
        "   - click on Create repository\n",
        "\n",
        "4. Click on uploading an existing file ( for uploading for file )\n",
        "   Now you can drag and dorp your file and folder.\n",
        "  - Drop the (Day 03) folder\n",
        "  - Click Commit changes\n",
        "5. After you open LetsUpgrade-AI_ML repository\n",
        "   you will find a folder (called Day 03) \n",
        "   - go inside particular folder( Day 03)\n",
        "   - you will find assingment .ipynb file\n",
        "   - copy the link \n",
        "\n",
        "6. For submitting your assignment. Visit letsupgrade assignment link\n",
        "  - click assignment submit form\n",
        "  - Enter Email address (Registered Email Address only)\n",
        "  - Your Name \n",
        "  - Registered Email Address\n",
        "  - Registered Mobile Number\n",
        "  - Assignment Number (For Example Day 1, Day 2)....(select \n",
        "accordingly)\n",
        "  - Paste Github URL of the assignment for the Day (URL of the Day 1, Day 2, etc..)\n",
        "  - Click Submit\n",
        "\n",
        "\n",
        "\n"
      ]
    }
  ]
}