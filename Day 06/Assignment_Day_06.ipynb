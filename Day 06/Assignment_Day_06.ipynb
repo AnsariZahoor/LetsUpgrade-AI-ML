{
  "nbformat": 4,
  "nbformat_minor": 0,
  "metadata": {
    "colab": {
      "name": "Assignment Day 06.ipynb",
      "provenance": []
    },
    "kernelspec": {
      "name": "python3",
      "display_name": "Python 3"
    }
  },
  "cells": [
    {
      "cell_type": "markdown",
      "metadata": {
        "id": "PU4uHub4pTDy",
        "colab_type": "text"
      },
      "source": [
        "#Assignment Day 06"
      ]
    },
    {
      "cell_type": "markdown",
      "metadata": {
        "id": "Ja614jD3paL6",
        "colab_type": "text"
      },
      "source": [
        "###***Question 1: Assuming that we have some email addresses in the \"username@companyname.com\" format, please write program to print the company name of a given email address. Both user names and company names are composed of letters only.***\n",
        "- Input Format:\n",
        "The first line of the input contains an email address.\n",
        "- Output Format:\n",
        "Print the company name in single line.\n",
        "Example;\n",
        "- Input:\n",
        "john@google.com\n",
        "- Output:\n",
        "google\n",
        "---\n"
      ]
    },
    {
      "cell_type": "code",
      "metadata": {
        "id": "8T0Hbmly5uA3",
        "colab_type": "code",
        "colab": {
          "base_uri": "https://localhost:8080/",
          "height": 54
        },
        "outputId": "303d06ab-870f-43d7-fe0e-6f456d0f92a3"
      },
      "source": [
        "email = input('Enter your email address : ')\n",
        "email = email.split('@')[1]\n",
        "email = email.split('.')[0]\n",
        "print('Company name : ',email)"
      ],
      "execution_count": null,
      "outputs": [
        {
          "output_type": "stream",
          "text": [
            "Enter your email address : john@google.com\n",
            "Company name :  google\n"
          ],
          "name": "stdout"
        }
      ]
    },
    {
      "cell_type": "markdown",
      "metadata": {
        "id": "JO4XLSV8rNu4",
        "colab_type": "text"
      },
      "source": [
        "###***Question 2: Write a program that accepts a comma-separated sequence of words as input and prints the words in a comma separated sequence after sorting them alphabetically.***\n",
        "- Input Format:\n",
        "The first line of input contains words separated by the comma.\n",
        "- Output Format:\n",
        "Print the sorted words separated by the comma.\n",
        "- Example:\n",
        " - Input:\n",
        "without,hello,bag,world\n",
        " - Output:\n",
        "bag,hello,without,world\n",
        "---\n"
      ]
    },
    {
      "cell_type": "code",
      "metadata": {
        "id": "i-apqv-jKZue",
        "colab_type": "code",
        "colab": {
          "base_uri": "https://localhost:8080/",
          "height": 54
        },
        "outputId": "7b1b632a-a685-4437-de09-e30084f271e3"
      },
      "source": [
        "items = input()\n",
        "for word in items:\n",
        "  items.split(',')\n",
        "print(\",\".join(sorted(list(set(words)))))\n"
      ],
      "execution_count": null,
      "outputs": [
        {
          "output_type": "stream",
          "text": [
            "without,hello,bag,world\n",
            "bag,hello,without,world\n"
          ],
          "name": "stdout"
        }
      ]
    },
    {
      "cell_type": "markdown",
      "metadata": {
        "id": "6HlcrnSZwDfI",
        "colab_type": "text"
      },
      "source": [
        "###***Question 3: Create your own Jupyter Notebook for Sets. Reference link: https://www.w3schools.com/python/python_sets.asp***"
      ]
    },
    {
      "cell_type": "code",
      "metadata": {
        "id": "Q7JYHD5cwL6i",
        "colab_type": "code",
        "colab": {
          "base_uri": "https://localhost:8080/",
          "height": 35
        },
        "outputId": "0cbc1135-cd38-4ddf-a6d5-c6d6aa5fb091"
      },
      "source": [
        "set1 = {\"hello\", \"hii\", \"hey\"}\n",
        "print(set1)"
      ],
      "execution_count": null,
      "outputs": [
        {
          "output_type": "stream",
          "text": [
            "{'hii', 'hello', 'hey'}\n"
          ],
          "name": "stdout"
        }
      ]
    },
    {
      "cell_type": "code",
      "metadata": {
        "id": "RESxaTAg3fOS",
        "colab_type": "code",
        "colab": {
          "base_uri": "https://localhost:8080/",
          "height": 35
        },
        "outputId": "f6760acc-9e5c-42fe-f71b-59171252b5c8"
      },
      "source": [
        "#To check whether it is avaible or not\n",
        "print(\"hey\" in set1)"
      ],
      "execution_count": null,
      "outputs": [
        {
          "output_type": "stream",
          "text": [
            "True\n"
          ],
          "name": "stdout"
        }
      ]
    },
    {
      "cell_type": "code",
      "metadata": {
        "id": "9WhQXHdc3pvA",
        "colab_type": "code",
        "colab": {
          "base_uri": "https://localhost:8080/",
          "height": 35
        },
        "outputId": "ac557d04-9aa4-434a-d682-bc9979aa493f"
      },
      "source": [
        "#To add \n",
        "set1.add(\"good moring\")\n",
        "print(set1)"
      ],
      "execution_count": null,
      "outputs": [
        {
          "output_type": "stream",
          "text": [
            "{'good moring', 'hii', 'hello', 'hey'}\n"
          ],
          "name": "stdout"
        }
      ]
    },
    {
      "cell_type": "code",
      "metadata": {
        "id": "0776dleu3_eN",
        "colab_type": "code",
        "colab": {
          "base_uri": "https://localhost:8080/",
          "height": 35
        },
        "outputId": "c6b3dfd0-6064-4a64-c16b-7eb18f24aade"
      },
      "source": [
        "#To update\n",
        "set1.update([\"letsUpgrade\", \"AiML\", \"Zahoor\"])\n",
        "print(set1)"
      ],
      "execution_count": null,
      "outputs": [
        {
          "output_type": "stream",
          "text": [
            "{'AiML', 'letsUpgrade', 'good moring', 'hii', 'hello', 'Zahoor'}\n"
          ],
          "name": "stdout"
        }
      ]
    },
    {
      "cell_type": "code",
      "metadata": {
        "id": "9HzAiP-C1Is7",
        "colab_type": "code",
        "colab": {
          "base_uri": "https://localhost:8080/",
          "height": 35
        },
        "outputId": "f71db6bb-f84f-42bc-a4bb-b7a7cebc38af"
      },
      "source": [
        "#Get the Length of a Set\n",
        "print(len(set1))"
      ],
      "execution_count": null,
      "outputs": [
        {
          "output_type": "stream",
          "text": [
            "7\n"
          ],
          "name": "stdout"
        }
      ]
    },
    {
      "cell_type": "code",
      "metadata": {
        "id": "mgt0FmVX1Sy5",
        "colab_type": "code",
        "colab": {
          "base_uri": "https://localhost:8080/",
          "height": 54
        },
        "outputId": "24e6adf0-60b8-4114-865e-732025c46695"
      },
      "source": [
        "# Remove Item\n",
        "set1 = {'AiML', 'letsUpgrade', 'good moring', 'hii', 'hello', 'Zahoor'}\n",
        "print(set1)\n",
        "set1.remove('Zahoor')\n",
        "print(set1)"
      ],
      "execution_count": null,
      "outputs": [
        {
          "output_type": "stream",
          "text": [
            "{'AiML', 'letsUpgrade', 'good moring', 'hii', 'hello', 'Zahoor'}\n",
            "{'AiML', 'letsUpgrade', 'good moring', 'hii', 'hello'}\n"
          ],
          "name": "stdout"
        }
      ]
    },
    {
      "cell_type": "code",
      "metadata": {
        "id": "fVkEyNKt2HPE",
        "colab_type": "code",
        "colab": {
          "base_uri": "https://localhost:8080/",
          "height": 54
        },
        "outputId": "9599c0cc-2f3a-46f6-ca62-36f8e3a0e9a8"
      },
      "source": [
        "# Remove \"hello\" by using the discard() method\n",
        "set1 = {'AiML', 'letsUpgrade', 'good moring', 'hii', 'hello', 'Zahoor'}\n",
        "print(set1)\n",
        "set1.discard('hello')\n",
        "print(set1)"
      ],
      "execution_count": null,
      "outputs": [
        {
          "output_type": "stream",
          "text": [
            "{'AiML', 'letsUpgrade', 'good moring', 'hii', 'hello', 'Zahoor'}\n",
            "{'AiML', 'letsUpgrade', 'good moring', 'hii', 'Zahoor'}\n"
          ],
          "name": "stdout"
        }
      ]
    },
    {
      "cell_type": "code",
      "metadata": {
        "id": "hO5aWRAk2WeW",
        "colab_type": "code",
        "colab": {
          "base_uri": "https://localhost:8080/",
          "height": 54
        },
        "outputId": "0ba3a718-a9d3-4003-e4bb-ffee1fbad33d"
      },
      "source": [
        "# Remove the last item by using the pop() method\n",
        "set2 = {'letsUpgrade', 'good moring', 'hii', 'hello', 'Zahoor','AiML'}\n",
        "print(set2)\n",
        "set2.pop()\n",
        "print(set2)"
      ],
      "execution_count": null,
      "outputs": [
        {
          "output_type": "stream",
          "text": [
            "{'AiML', 'letsUpgrade', 'good moring', 'hii', 'hello', 'Zahoor'}\n",
            "{'letsUpgrade', 'good moring', 'hii', 'hello', 'Zahoor'}\n"
          ],
          "name": "stdout"
        }
      ]
    },
    {
      "cell_type": "code",
      "metadata": {
        "id": "DJA5sAgl29zf",
        "colab_type": "code",
        "colab": {
          "base_uri": "https://localhost:8080/",
          "height": 35
        },
        "outputId": "f574867a-9beb-49e9-8188-75ad1a1a2f95"
      },
      "source": [
        "# The clear() method empties the set\n",
        "set2.clear()\n",
        "print(set2)"
      ],
      "execution_count": null,
      "outputs": [
        {
          "output_type": "stream",
          "text": [
            "set()\n"
          ],
          "name": "stdout"
        }
      ]
    },
    {
      "cell_type": "code",
      "metadata": {
        "id": "QOtLkuwi0yw2",
        "colab_type": "code",
        "colab": {}
      },
      "source": [
        "# del keyword will delete the set completely\n",
        "set2 = {'letsUpgrade', 'good moring', 'hii', 'hello', 'Zahoor','AiML'}\n",
        "print(set2)\n",
        "del set2\n",
        "print(set2)\n",
        "\n",
        "#this will raise an error because the set no longer exists"
      ],
      "execution_count": null,
      "outputs": []
    },
    {
      "cell_type": "code",
      "metadata": {
        "id": "Bqqjnjmi3k7F",
        "colab_type": "code",
        "colab": {
          "base_uri": "https://localhost:8080/",
          "height": 35
        },
        "outputId": "2f1c5ab9-4301-4422-ef5f-1e3f9663cc78"
      },
      "source": [
        "# union() method returns a new set with all items from both sets\n",
        "set1 = {\"a\", \"b\" , \"c\"}\n",
        "set2 = {1, 2, 3}\n",
        "set3 = set1.union(set2)\n",
        "print(set3)"
      ],
      "execution_count": null,
      "outputs": [
        {
          "output_type": "stream",
          "text": [
            "{1, 2, 3, 'c', 'a', 'b'}\n"
          ],
          "name": "stdout"
        }
      ]
    },
    {
      "cell_type": "markdown",
      "metadata": {
        "id": "EsqigCPlwVuK",
        "colab_type": "text"
      },
      "source": [
        "###***Question 4: Given a list of n-1 numbers ranging from 1 to n, your task is to find the missing number. There are no duplicates.***\n",
        "- Input Format:\n",
        "The first line contains n-1 numbers with each number separated by a space.\n",
        "- Output Format:\n",
        "- Print the missing number\n",
        " - Example:\n",
        " - Input:1 2 4 6 3 7 8\n",
        " - Output:5\n",
        "- Explanation:\n",
        "In the above list of numbers 5 is missing and hence 5 is the input\n",
        "---"
      ]
    },
    {
      "cell_type": "code",
      "metadata": {
        "id": "d5cQkTbOdHSy",
        "colab_type": "code",
        "colab": {
          "base_uri": "https://localhost:8080/",
          "height": 54
        },
        "outputId": "97260d04-5fa8-4e0a-e985-ee6fceb5591d"
      },
      "source": [
        "lstt = (input())\n",
        "A = []\n",
        "A.append(lstt)\n",
        "print(*A)\n",
        "\n"
      ],
      "execution_count": 44,
      "outputs": [
        {
          "output_type": "stream",
          "text": [
            "1 2 4 6 3 7 8\n",
            "1 2 4 6 3 7 8\n"
          ],
          "name": "stdout"
        }
      ]
    },
    {
      "cell_type": "code",
      "metadata": {
        "id": "sGXRSYMgxbsb",
        "colab_type": "code",
        "colab": {
          "base_uri": "https://localhost:8080/",
          "height": 35
        },
        "outputId": "aed2cd7d-14dc-48b2-e975-08fce294cbb4"
      },
      "source": [
        "def getMissingNo(A): \n",
        "\tn = len(A) \n",
        "\ttotal = (n + 1)*(n + 2)/2\n",
        "\tsum_of_A = sum(A) \n",
        "\treturn total - sum_of_A \n",
        "\n",
        "miss = getMissingNo(A) \n",
        "print(int(miss)) \n",
        "\n"
      ],
      "execution_count": 56,
      "outputs": [
        {
          "output_type": "stream",
          "text": [
            "5\n"
          ],
          "name": "stdout"
        }
      ]
    },
    {
      "cell_type": "markdown",
      "metadata": {
        "id": "HnO_qUpLwmnw",
        "colab_type": "text"
      },
      "source": [
        "###***Question 5: With a given list L, write a program to print this list L after removing all duplicate values with original order reserved.***\n",
        "- Example:\n",
        " - If the input list is\n",
        "12 24 35 24 88 120 155 88 120 155\n",
        " - Then the output should be\n",
        "12 24 35 88 120 155\n",
        "- Explanation:\n",
        " - Third, seventh and ninth element of the list L has been removed because it was already present.\n",
        "- Input Format:\n",
        "- In one line take the elements of the list L with each element separated by a space.\n",
        "- Output Format:\n",
        "- Print the elements of the modified list in one line with each element separated by a space.\n",
        "-Example:\n",
        " - Input: 12 24 35 24\n",
        " - Output:\n",
        "12 24 35\n",
        "."
      ]
    },
    {
      "cell_type": "code",
      "metadata": {
        "id": "Vr7s8FnRHxaq",
        "colab_type": "code",
        "colab": {
          "base_uri": "https://localhost:8080/",
          "height": 54
        },
        "outputId": "fa49bc54-c0c8-4e7e-d318-53f5afea2cc6"
      },
      "source": [
        "l = list(map(int,input().strip().split()))\n",
        "new_l = []\n",
        "for x in l:\n",
        "  if x not in new_l:\n",
        "    new_l.append(x)\n",
        "print(*new_l)"
      ],
      "execution_count": null,
      "outputs": [
        {
          "output_type": "stream",
          "text": [
            "12 24 35 24 88 120 155 88 120 155\n",
            "12 24 35 88 120 155\n"
          ],
          "name": "stdout"
        }
      ]
    },
    {
      "cell_type": "code",
      "metadata": {
        "id": "8HRVdMdSIEDD",
        "colab_type": "code",
        "colab": {
          "base_uri": "https://localhost:8080/",
          "height": 54
        },
        "outputId": "ebc8c3b1-49b9-49e2-9c16-324984c6cb53"
      },
      "source": [
        "l = list(map(int,input().strip().split()))\n",
        "new_l = []\n",
        "for x in l:\n",
        "  if x not in new_l:\n",
        "    new_l.append(x)\n",
        "print(*new_l)"
      ],
      "execution_count": null,
      "outputs": [
        {
          "output_type": "stream",
          "text": [
            "12 24 35 24\n",
            "12 24 35\n"
          ],
          "name": "stdout"
        }
      ]
    }
  ]
}