{
  "nbformat": 4,
  "nbformat_minor": 0,
  "metadata": {
    "colab": {
      "name": "Assignment Day 05.ipynb",
      "provenance": [],
      "collapsed_sections": []
    },
    "kernelspec": {
      "name": "python3",
      "display_name": "Python 3"
    }
  },
  "cells": [
    {
      "cell_type": "markdown",
      "metadata": {
        "id": "_iHSvu9phY8J",
        "colab_type": "text"
      },
      "source": [
        "#Assignment Day 05"
      ]
    },
    {
      "cell_type": "markdown",
      "metadata": {
        "id": "inCkRB7VfnZm",
        "colab_type": "text"
      },
      "source": [
        "###***Q1 : Write a Python program to find the first 20 non-even prime natural numbers.***\n",
        "---\n"
      ]
    },
    {
      "cell_type": "code",
      "metadata": {
        "id": "-AkatncuseNI",
        "colab_type": "code",
        "colab": {
          "base_uri": "https://localhost:8080/",
          "height": 163
        },
        "outputId": "8607bd7d-b9e6-4935-97b1-b2a88bff8cd8"
      },
      "source": [
        "print('Non-even prime natural numbers are : ') \n",
        "for num in range(0,21):  \n",
        "   if num > 1 and num%2 != 0:  \n",
        "       for i in range(2,num):  \n",
        "           if (num % i) == 0:  \n",
        "               break  \n",
        "       else:\n",
        "            \n",
        "           print(num)  "
      ],
      "execution_count": 61,
      "outputs": [
        {
          "output_type": "stream",
          "text": [
            "Non-even prime natural numbers are : \n",
            "3\n",
            "5\n",
            "7\n",
            "11\n",
            "13\n",
            "17\n",
            "19\n"
          ],
          "name": "stdout"
        }
      ]
    },
    {
      "cell_type": "markdown",
      "metadata": {
        "id": "JwSABy6-v3po",
        "colab_type": "text"
      },
      "source": [
        "###***Q2 : Write a Python program to implement 15 functions of string.***\n",
        "---\n"
      ]
    },
    {
      "cell_type": "code",
      "metadata": {
        "id": "OKMoge3IwEOk",
        "colab_type": "code",
        "colab": {
          "base_uri": "https://localhost:8080/",
          "height": 54
        },
        "outputId": "d4db7436-2772-4ad7-fae7-ed5b994d32a3"
      },
      "source": [
        "a = 'LetsUpgrade AI-ML Program'\n",
        "print(a)\n",
        "len(a)"
      ],
      "execution_count": 104,
      "outputs": [
        {
          "output_type": "stream",
          "text": [
            "LetsUpgrade AI-ML Program\n"
          ],
          "name": "stdout"
        },
        {
          "output_type": "execute_result",
          "data": {
            "text/plain": [
              "25"
            ]
          },
          "metadata": {
            "tags": []
          },
          "execution_count": 104
        }
      ]
    },
    {
      "cell_type": "code",
      "metadata": {
        "id": "Euv6FAfaEx5y",
        "colab_type": "code",
        "colab": {
          "base_uri": "https://localhost:8080/",
          "height": 35
        },
        "outputId": "c66a6b1d-add4-4f09-d5c0-7040ee6099ec"
      },
      "source": [
        "#1\n",
        "a.capitalize()"
      ],
      "execution_count": 69,
      "outputs": [
        {
          "output_type": "execute_result",
          "data": {
            "application/vnd.google.colaboratory.intrinsic": {
              "type": "string"
            },
            "text/plain": [
              "'Letsupgrade ai-ml program'"
            ]
          },
          "metadata": {
            "tags": []
          },
          "execution_count": 69
        }
      ]
    },
    {
      "cell_type": "code",
      "metadata": {
        "id": "UqaI4m0aEqv5",
        "colab_type": "code",
        "colab": {
          "base_uri": "https://localhost:8080/",
          "height": 35
        },
        "outputId": "ea789526-3344-4e7a-d1a2-e4f24c24657b"
      },
      "source": [
        "#2\n",
        "a.casefold()"
      ],
      "execution_count": 72,
      "outputs": [
        {
          "output_type": "execute_result",
          "data": {
            "application/vnd.google.colaboratory.intrinsic": {
              "type": "string"
            },
            "text/plain": [
              "'letsupgrade ai-ml program'"
            ]
          },
          "metadata": {
            "tags": []
          },
          "execution_count": 72
        }
      ]
    },
    {
      "cell_type": "code",
      "metadata": {
        "id": "wvJvDE4dHRd1",
        "colab_type": "code",
        "colab": {
          "base_uri": "https://localhost:8080/",
          "height": 35
        },
        "outputId": "3eb52887-ca85-41be-b499-41b4b6d08df8"
      },
      "source": [
        "#3\n",
        "a.center(50)"
      ],
      "execution_count": 80,
      "outputs": [
        {
          "output_type": "execute_result",
          "data": {
            "application/vnd.google.colaboratory.intrinsic": {
              "type": "string"
            },
            "text/plain": [
              "'            LetsUpgrade AI-ML Program             '"
            ]
          },
          "metadata": {
            "tags": []
          },
          "execution_count": 80
        }
      ]
    },
    {
      "cell_type": "code",
      "metadata": {
        "id": "eJLyPu2UI4z_",
        "colab_type": "code",
        "colab": {
          "base_uri": "https://localhost:8080/",
          "height": 35
        },
        "outputId": "ecc286de-cd01-4d5e-c9e3-1b001770a48d"
      },
      "source": [
        "#4\n",
        "a.count('AI-ML')"
      ],
      "execution_count": 85,
      "outputs": [
        {
          "output_type": "execute_result",
          "data": {
            "text/plain": [
              "1"
            ]
          },
          "metadata": {
            "tags": []
          },
          "execution_count": 85
        }
      ]
    },
    {
      "cell_type": "code",
      "metadata": {
        "id": "a9KrBzfVJuFW",
        "colab_type": "code",
        "colab": {
          "base_uri": "https://localhost:8080/",
          "height": 35
        },
        "outputId": "d3be3c91-bc2e-45ef-96cc-8952516880bd"
      },
      "source": [
        "#5\n",
        "a.encode()"
      ],
      "execution_count": 86,
      "outputs": [
        {
          "output_type": "execute_result",
          "data": {
            "text/plain": [
              "b'LetsUpgrade AI-ML Program'"
            ]
          },
          "metadata": {
            "tags": []
          },
          "execution_count": 86
        }
      ]
    },
    {
      "cell_type": "code",
      "metadata": {
        "id": "aIW5daHbJ9qX",
        "colab_type": "code",
        "colab": {
          "base_uri": "https://localhost:8080/",
          "height": 35
        },
        "outputId": "e8b8013c-e894-4ad5-ad95-4c60ceb626ec"
      },
      "source": [
        "#6\n",
        "a.endswith(\"m\")"
      ],
      "execution_count": 88,
      "outputs": [
        {
          "output_type": "execute_result",
          "data": {
            "text/plain": [
              "True"
            ]
          },
          "metadata": {
            "tags": []
          },
          "execution_count": 88
        }
      ]
    },
    {
      "cell_type": "code",
      "metadata": {
        "id": "GpUAG21tKFdm",
        "colab_type": "code",
        "colab": {
          "base_uri": "https://localhost:8080/",
          "height": 35
        },
        "outputId": "829c1c33-a0be-43a1-8e95-101165042482"
      },
      "source": [
        "#7\n",
        "a.find('Program')"
      ],
      "execution_count": 91,
      "outputs": [
        {
          "output_type": "execute_result",
          "data": {
            "text/plain": [
              "18"
            ]
          },
          "metadata": {
            "tags": []
          },
          "execution_count": 91
        }
      ]
    },
    {
      "cell_type": "code",
      "metadata": {
        "id": "2wafMX0gKaDM",
        "colab_type": "code",
        "colab": {
          "base_uri": "https://localhost:8080/",
          "height": 35
        },
        "outputId": "12569227-b122-404f-89aa-fd0a98f087bc"
      },
      "source": [
        "#8\n",
        "a.index('LetsUpgrade')"
      ],
      "execution_count": 94,
      "outputs": [
        {
          "output_type": "execute_result",
          "data": {
            "text/plain": [
              "0"
            ]
          },
          "metadata": {
            "tags": []
          },
          "execution_count": 94
        }
      ]
    },
    {
      "cell_type": "code",
      "metadata": {
        "id": "T3ejno9LK0XB",
        "colab_type": "code",
        "colab": {
          "base_uri": "https://localhost:8080/",
          "height": 35
        },
        "outputId": "67ec3c7d-f1ce-4869-d767-c120eb76b7fb"
      },
      "source": [
        "#9\n",
        "a.isalnum()"
      ],
      "execution_count": 95,
      "outputs": [
        {
          "output_type": "execute_result",
          "data": {
            "text/plain": [
              "False"
            ]
          },
          "metadata": {
            "tags": []
          },
          "execution_count": 95
        }
      ]
    },
    {
      "cell_type": "code",
      "metadata": {
        "id": "QNLN0OV3Kytu",
        "colab_type": "code",
        "colab": {
          "base_uri": "https://localhost:8080/",
          "height": 35
        },
        "outputId": "f9dddae6-e75c-4e40-cd88-29d93b0cdaaf"
      },
      "source": [
        "#10\n",
        "a.isalpha()"
      ],
      "execution_count": 96,
      "outputs": [
        {
          "output_type": "execute_result",
          "data": {
            "text/plain": [
              "False"
            ]
          },
          "metadata": {
            "tags": []
          },
          "execution_count": 96
        }
      ]
    },
    {
      "cell_type": "code",
      "metadata": {
        "id": "Rj7FDucLK_g2",
        "colab_type": "code",
        "colab": {
          "base_uri": "https://localhost:8080/",
          "height": 35
        },
        "outputId": "6c045144-4fde-430b-8a56-7567a0ddef2f"
      },
      "source": [
        "#11\n",
        "a.isdecimal()"
      ],
      "execution_count": 97,
      "outputs": [
        {
          "output_type": "execute_result",
          "data": {
            "text/plain": [
              "False"
            ]
          },
          "metadata": {
            "tags": []
          },
          "execution_count": 97
        }
      ]
    },
    {
      "cell_type": "code",
      "metadata": {
        "id": "3TLmoC3pLFvS",
        "colab_type": "code",
        "colab": {
          "base_uri": "https://localhost:8080/",
          "height": 35
        },
        "outputId": "47cfcabe-72d6-4574-de55-fbf937efd916"
      },
      "source": [
        "#12\n",
        "a.isprintable()"
      ],
      "execution_count": null,
      "outputs": [
        {
          "output_type": "execute_result",
          "data": {
            "text/plain": [
              "True"
            ]
          },
          "metadata": {
            "tags": []
          },
          "execution_count": 98
        }
      ]
    },
    {
      "cell_type": "code",
      "metadata": {
        "id": "epEmpKHWLK_B",
        "colab_type": "code",
        "colab": {
          "base_uri": "https://localhost:8080/",
          "height": 35
        },
        "outputId": "403dfb3e-2020-4d52-dab9-274272bb1b84"
      },
      "source": [
        "#13\n",
        "a.islower()"
      ],
      "execution_count": 99,
      "outputs": [
        {
          "output_type": "execute_result",
          "data": {
            "text/plain": [
              "False"
            ]
          },
          "metadata": {
            "tags": []
          },
          "execution_count": 99
        }
      ]
    },
    {
      "cell_type": "code",
      "metadata": {
        "id": "R2RJl0xeLQ0I",
        "colab_type": "code",
        "colab": {
          "base_uri": "https://localhost:8080/",
          "height": 35
        },
        "outputId": "2893c3fe-63cf-4996-e877-55cee2085125"
      },
      "source": [
        "#14\n",
        "a.replace('Program','Course')"
      ],
      "execution_count": 101,
      "outputs": [
        {
          "output_type": "execute_result",
          "data": {
            "application/vnd.google.colaboratory.intrinsic": {
              "type": "string"
            },
            "text/plain": [
              "'LetsUpgrade AI-ML Course'"
            ]
          },
          "metadata": {
            "tags": []
          },
          "execution_count": 101
        }
      ]
    },
    {
      "cell_type": "code",
      "metadata": {
        "id": "3YtLLTQILqz-",
        "colab_type": "code",
        "colab": {
          "base_uri": "https://localhost:8080/",
          "height": 35
        },
        "outputId": "391e4fbe-24a0-4695-84df-062e3fddd0b1"
      },
      "source": [
        "#15\n",
        "a.swapcase()"
      ],
      "execution_count": 102,
      "outputs": [
        {
          "output_type": "execute_result",
          "data": {
            "application/vnd.google.colaboratory.intrinsic": {
              "type": "string"
            },
            "text/plain": [
              "'lETSuPGRADE ai-ml pROGRAM'"
            ]
          },
          "metadata": {
            "tags": []
          },
          "execution_count": 102
        }
      ]
    },
    {
      "cell_type": "markdown",
      "metadata": {
        "id": "TOxpjGIZMJfE",
        "colab_type": "text"
      },
      "source": [
        "###***Q3 : Write a Python program to check if the given string is a Palindrome or Anagram or None of them. Display the message accordingly to the user.***\n",
        "---"
      ]
    },
    {
      "cell_type": "code",
      "metadata": {
        "id": "-d_dB-BqMf6a",
        "colab_type": "code",
        "colab": {
          "base_uri": "https://localhost:8080/",
          "height": 145
        },
        "outputId": "7b9efe13-7a8e-491c-a47d-0709669f4052"
      },
      "source": [
        "user_input = input('What would you like to check ? \\n press 1 for Palindrome \\n press 2 for Anagram \\n')\n",
        "user_select = int(user_input)\n",
        "\n",
        "if user_select == 1 :\n",
        "  print('You have selected palindrome')\n",
        "  string = input('Enter a string to check : ')\n",
        "\n",
        "  if string[:] == string[::-1] :\n",
        "    print('Your string',string,'is palindrome')\n",
        "  else:\n",
        "    print('Your string',string,'is not palindrome')\n",
        "\n",
        "elif user_select == 2:\n",
        "  print('You have selected Anagram')\n",
        "  string1 = input('Enter 1st string : ')\n",
        "  string2 = input('Enter 2nd string : ')\n",
        "  if sorted(string1) == sorted(string2):\n",
        "    print(string1,'and',string2,'are anagram to each other')\n",
        "  else:\n",
        "    print(string1,'and',string2,'are not anagram to each other')\n",
        "\n",
        "else:\n",
        "  print('None of above')\n"
      ],
      "execution_count": 124,
      "outputs": [
        {
          "output_type": "stream",
          "text": [
            "What would you like to check ? \n",
            " press 1 for Palindrome \n",
            " press 2 for Anagram \n",
            "1\n",
            "You have selected palindrome\n",
            "Enter a string to check : Zahoor\n",
            "Your string Zahoor is not palindrome\n"
          ],
          "name": "stdout"
        }
      ]
    },
    {
      "cell_type": "code",
      "metadata": {
        "id": "R8oSZJfGV3wU",
        "colab_type": "code",
        "colab": {
          "base_uri": "https://localhost:8080/",
          "height": 145
        },
        "outputId": "d052ded9-2b3a-4fd3-fec8-d7f56649973b"
      },
      "source": [
        "user_input = input('What would you like to check ? \\n press 1 for Palindrome \\n press 2 for Anagram \\n')\n",
        "user_select = int(user_input)\n",
        "\n",
        "if user_select == 1 :\n",
        "  print('You have selected palindrome')\n",
        "  string = input('Enter a string to check : ')\n",
        "\n",
        "  if string[:] == string[::-1] :\n",
        "    print('Your string',string,'is palindrome')\n",
        "  else:\n",
        "    print('Your string',string,'is not palindrome')\n",
        "\n",
        "elif user_select == 2:\n",
        "  print('You have selected Anagram')\n",
        "  string1 = input('Enter 1st string : ')\n",
        "  string2 = input('Enter 2nd string : ')\n",
        "  if sorted(string1) == sorted(string2):\n",
        "    print(string1,'and',string2,'are anagram to each other')\n",
        "  else:\n",
        "    print(string1,'and',string2,'are not anagram to each other')\n",
        "\n",
        "else:\n",
        "  print('None of above')"
      ],
      "execution_count": 125,
      "outputs": [
        {
          "output_type": "stream",
          "text": [
            "What would you like to check ? \n",
            " press 1 for Palindrome \n",
            " press 2 for Anagram \n",
            "1\n",
            "You have selected palindrome\n",
            "Enter a string to check : AAAAAAAAAAAAAAAAAAA\n",
            "Your string AAAAAAAAAAAAAAAAAAA is palindrome\n"
          ],
          "name": "stdout"
        }
      ]
    },
    {
      "cell_type": "code",
      "metadata": {
        "id": "dvE9KDiDV_G_",
        "colab_type": "code",
        "colab": {
          "base_uri": "https://localhost:8080/",
          "height": 163
        },
        "outputId": "09c15233-6747-4aa6-9322-223b0db61d14"
      },
      "source": [
        "user_input = input('What would you like to check ? \\n press 1 for Palindrome \\n press 2 for Anagram \\n')\n",
        "user_select = int(user_input)\n",
        "\n",
        "if user_select == 1 :\n",
        "  print('You have selected palindrome')\n",
        "  string = input('Enter a string to check : ')\n",
        "\n",
        "  if string[:] == string[::-1] :\n",
        "    print('Your string',string,'is palindrome')\n",
        "  else:\n",
        "    print('Your string',string,'is not palindrome')\n",
        "\n",
        "elif user_select == 2:\n",
        "  print('You have selected Anagram')\n",
        "  string1 = input('Enter 1st string : ')\n",
        "  string2 = input('Enter 2nd string : ')\n",
        "  if sorted(string1) == sorted(string2):\n",
        "    print(string1,'and',string2,'are anagram to each other')\n",
        "  else:\n",
        "    print(string1,'and',string2,'are not anagram to each other')\n",
        "\n",
        "else:\n",
        "  print('None of above')"
      ],
      "execution_count": 126,
      "outputs": [
        {
          "output_type": "stream",
          "text": [
            "What would you like to check ? \n",
            " press 1 for Palindrome \n",
            " press 2 for Anagram \n",
            "2\n",
            "You have selected Anagram\n",
            "Enter 1st string : Zahoor\n",
            "Enter 2nd string : Zahoor\n",
            "Zahoor and Zahoor are anagram to each other\n"
          ],
          "name": "stdout"
        }
      ]
    },
    {
      "cell_type": "code",
      "metadata": {
        "id": "D790QiScWEMU",
        "colab_type": "code",
        "colab": {
          "base_uri": "https://localhost:8080/",
          "height": 163
        },
        "outputId": "857b330e-0caf-491b-c9d1-915a777d9108"
      },
      "source": [
        "user_input = input('What would you like to check ? \\n press 1 for Palindrome \\n press 2 for Anagram \\n')\n",
        "user_select = int(user_input)\n",
        "\n",
        "if user_select == 1 :\n",
        "  print('You have selected palindrome')\n",
        "  string = input('Enter a string to check : ')\n",
        "\n",
        "  if string[:] == string[::-1] :\n",
        "    print('Your string',string,'is palindrome')\n",
        "  else:\n",
        "    print('Your string',string,'is not palindrome')\n",
        "\n",
        "elif user_select == 2:\n",
        "  print('You have selected Anagram')\n",
        "  string1 = input('Enter 1st string : ')\n",
        "  string2 = input('Enter 2nd string : ')\n",
        "  if sorted(string1) == sorted(string2):\n",
        "    print(string1,'and',string2,'are anagram to each other')\n",
        "  else:\n",
        "    print(string1,'and',string2,'are not anagram to each other')\n",
        "\n",
        "else:\n",
        "  print('None of above')"
      ],
      "execution_count": 127,
      "outputs": [
        {
          "output_type": "stream",
          "text": [
            "What would you like to check ? \n",
            " press 1 for Palindrome \n",
            " press 2 for Anagram \n",
            "2\n",
            "You have selected Anagram\n",
            "Enter 1st string : Zahoor\n",
            "Enter 2nd string : LetsUpgrade\n",
            "Zahoor and LetsUpgrade are not anagram to each other\n"
          ],
          "name": "stdout"
        }
      ]
    },
    {
      "cell_type": "markdown",
      "metadata": {
        "id": "uhufVEymWeBP",
        "colab_type": "text"
      },
      "source": [
        "###***Question 4: Write a Python's user defined function that removes all the additional characters from the string and converts it finally to lower case using built-in lower(). eg: If the string is \"Dr. Darshan Ingle @AI-ML Trainer\", then the output be \"drdarshaningleaimltrainer\".***\n",
        "---"
      ]
    },
    {
      "cell_type": "code",
      "metadata": {
        "id": "4G2IvsCXWzat",
        "colab_type": "code",
        "colab": {
          "base_uri": "https://localhost:8080/",
          "height": 35
        },
        "outputId": "acd95e34-e8ae-4a48-de5b-f9fcde158099"
      },
      "source": [
        "def name(a):\n",
        "  x = ['@','.',' ','-']\n",
        "  for i in x:\n",
        "    a = a.replace(i,'')\n",
        "    a = a.lower()\n",
        "  print(a)\n",
        "\n",
        "name('Dr. Darshan Ingle @AI-ML Trainer')"
      ],
      "execution_count": 206,
      "outputs": [
        {
          "output_type": "stream",
          "text": [
            "drdarshaningleaimltrainer\n"
          ],
          "name": "stdout"
        }
      ]
    }
  ]
}