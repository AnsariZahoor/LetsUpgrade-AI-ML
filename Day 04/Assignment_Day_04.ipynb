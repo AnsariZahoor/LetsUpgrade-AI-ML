{
  "nbformat": 4,
  "nbformat_minor": 0,
  "metadata": {
    "colab": {
      "name": "Assignment Day 04.ipynb",
      "provenance": []
    },
    "kernelspec": {
      "name": "python3",
      "display_name": "Python 3"
    }
  },
  "cells": [
    {
      "cell_type": "markdown",
      "metadata": {
        "id": "QAwUrEKQnQ6n",
        "colab_type": "text"
      },
      "source": [
        "#Assignment Day 04"
      ]
    },
    {
      "cell_type": "markdown",
      "metadata": {
        "id": "DfhnOQVonkkh",
        "colab_type": "text"
      },
      "source": [
        "###***Q1 : Research on whether addition, subtraction, multiplication, division, floor division and modulo operations be performed on complex numbers. Based on your study, implement a Python program to demonstrate these operations.***\n",
        "---\n"
      ]
    },
    {
      "cell_type": "code",
      "metadata": {
        "id": "ZCRB59fnnhpS",
        "colab_type": "code",
        "colab": {
          "base_uri": "https://localhost:8080/",
          "height": 35
        },
        "outputId": "91386c45-2c24-4e1f-f219-65d9e37cff78"
      },
      "source": [
        "# Addition\n",
        "\n",
        "a = 3 + 3j\n",
        "b = 4 + 4j\n",
        "c = a + b\n",
        "print('Addition of two complex numbers :',c)"
      ],
      "execution_count": 63,
      "outputs": [
        {
          "output_type": "stream",
          "text": [
            "Addition of two complex numbers : (7+7j)\n"
          ],
          "name": "stdout"
        }
      ]
    },
    {
      "cell_type": "code",
      "metadata": {
        "id": "DuUqQf-cotdr",
        "colab_type": "code",
        "colab": {
          "base_uri": "https://localhost:8080/",
          "height": 35
        },
        "outputId": "474decf4-8fe2-487e-82af-e99b677156d2"
      },
      "source": [
        "# Subtraction\n",
        "\n",
        "a = 5 + 9j\n",
        "b = 4 + 4j\n",
        "c = a - b\n",
        "print('Subtraction of two complex numbers :',c)"
      ],
      "execution_count": 64,
      "outputs": [
        {
          "output_type": "stream",
          "text": [
            "Subtraction of two complex numbers : (1+5j)\n"
          ],
          "name": "stdout"
        }
      ]
    },
    {
      "cell_type": "code",
      "metadata": {
        "id": "m-TTelsVow0D",
        "colab_type": "code",
        "colab": {
          "base_uri": "https://localhost:8080/",
          "height": 35
        },
        "outputId": "705374ec-4537-43ed-d828-52f26a0189d8"
      },
      "source": [
        "# Multiplication\n",
        "\n",
        "a = 4 + 3j\n",
        "b = 3 - 6j\n",
        "c = a * b\n",
        "print('Multiplication of two complex numbers :',c)"
      ],
      "execution_count": 65,
      "outputs": [
        {
          "output_type": "stream",
          "text": [
            "Multiplication of two complex numbers : (30-15j)\n"
          ],
          "name": "stdout"
        }
      ]
    },
    {
      "cell_type": "code",
      "metadata": {
        "id": "NGHHBsnxo1LZ",
        "colab_type": "code",
        "colab": {
          "base_uri": "https://localhost:8080/",
          "height": 35
        },
        "outputId": "fda37df3-cc0a-4177-d804-d72178f1acbf"
      },
      "source": [
        "# Division\n",
        "\n",
        "a = 3 + 3j\n",
        "b = 4 + 4j\n",
        "c = a / b\n",
        "print('Division of two complex numbers :',c)"
      ],
      "execution_count": 66,
      "outputs": [
        {
          "output_type": "stream",
          "text": [
            "Division of two complex numbers : (0.75+0j)\n"
          ],
          "name": "stdout"
        }
      ]
    },
    {
      "cell_type": "code",
      "metadata": {
        "id": "TEVIKSX6o4JZ",
        "colab_type": "code",
        "colab": {}
      },
      "source": [
        "# floor division\n",
        "\n",
        "a = 3 + 3j\n",
        "b = 4 + 4j\n",
        "c = a // b\n",
        "print('floor division of two complex numbers :',c)\n",
        "\n",
        "# we can't take floor of complex number."
      ],
      "execution_count": null,
      "outputs": []
    },
    {
      "cell_type": "code",
      "metadata": {
        "id": "LEmHV2zHpBRh",
        "colab_type": "code",
        "colab": {}
      },
      "source": [
        "# modulo\n",
        "\n",
        "a = 3 + 3j\n",
        "b = 4 + 4j\n",
        "c = a % b\n",
        "print('modulo of two complex numbers :',c)\n",
        "\n",
        "# can't mod complex numbers."
      ],
      "execution_count": null,
      "outputs": []
    },
    {
      "cell_type": "markdown",
      "metadata": {
        "id": "HrnwFqR6t_lQ",
        "colab_type": "text"
      },
      "source": [
        "###***Q2 : Research on range() functions and its parameters. Create a markdown cell and write in your own words (no copy-paste from google please) what you understand about it. Implement a small program of your choice on the same.***\n",
        "---"
      ]
    },
    {
      "cell_type": "markdown",
      "metadata": {
        "id": "M6u85V5VzxLr",
        "colab_type": "text"
      },
      "source": [
        "range() function returns a sequence of numbers, starting from 0 by default, and increments by 1 by default, and stops before a given number(that we give). We can also set a value from anywhere to anywhere.\n",
        "\n"
      ]
    },
    {
      "cell_type": "code",
      "metadata": {
        "id": "2USki5XOt6US",
        "colab_type": "code",
        "colab": {
          "base_uri": "https://localhost:8080/",
          "height": 199
        },
        "outputId": "e0a8a4e6-ed7e-4df9-c1c0-53156dff7c67"
      },
      "source": [
        "for i in range(10):\n",
        "  print(i)\n",
        "\n",
        "# In this case it takes a by default initial value 0"
      ],
      "execution_count": 71,
      "outputs": [
        {
          "output_type": "stream",
          "text": [
            "0\n",
            "1\n",
            "2\n",
            "3\n",
            "4\n",
            "5\n",
            "6\n",
            "7\n",
            "8\n",
            "9\n"
          ],
          "name": "stdout"
        }
      ]
    },
    {
      "cell_type": "code",
      "metadata": {
        "id": "DsImj77f0Tgz",
        "colab_type": "code",
        "colab": {
          "base_uri": "https://localhost:8080/",
          "height": 145
        },
        "outputId": "98a4cc7b-fb1c-404c-c358-de0e79e3e2e3"
      },
      "source": [
        "for i in range(3,10):\n",
        "  print(i)\n",
        "\n",
        "# In this case it takes given value as 3 to 10. function doesn’t include the last (stop) number in the result."
      ],
      "execution_count": 70,
      "outputs": [
        {
          "output_type": "stream",
          "text": [
            "3\n",
            "4\n",
            "5\n",
            "6\n",
            "7\n",
            "8\n",
            "9\n"
          ],
          "name": "stdout"
        }
      ]
    },
    {
      "cell_type": "markdown",
      "metadata": {
        "id": "nsaiwxTZuN1m",
        "colab_type": "text"
      },
      "source": [
        "###***Q3: Consider two numbers. Perform their subtraction and if the result of subtraction is greater than 25, print their multiplication result else print their division result.***\n",
        "---"
      ]
    },
    {
      "cell_type": "code",
      "metadata": {
        "id": "qILhcXb1uYl8",
        "colab_type": "code",
        "colab": {
          "base_uri": "https://localhost:8080/",
          "height": 35
        },
        "outputId": "b3ee3eb0-a56f-4999-fb99-d18de51c2f3a"
      },
      "source": [
        "num1 = 40\n",
        "num2 = 2\n",
        "sub = num1 - num2\n",
        "\n",
        "if sub > 25 :\n",
        "  print('Multiplication of',num1,'*',num2,':',num1*num2)\n",
        "else:\n",
        "  print('Division of',num1,'/',num2,':',num1/num2)\n"
      ],
      "execution_count": 39,
      "outputs": [
        {
          "output_type": "stream",
          "text": [
            "Multiplication of 40 * 2 : 80\n"
          ],
          "name": "stdout"
        }
      ]
    },
    {
      "cell_type": "code",
      "metadata": {
        "id": "JBf8dqa4v6FD",
        "colab_type": "code",
        "colab": {
          "base_uri": "https://localhost:8080/",
          "height": 35
        },
        "outputId": "005ff7ca-eca2-4503-c576-40204f65b29e"
      },
      "source": [
        "num1 = 40\n",
        "num2 = 20\n",
        "sub = num1 - num2\n",
        "\n",
        "if sub > 25 :\n",
        "  print('Multiplication of',num1,'*',num2,':',num1*num2)\n",
        "else:\n",
        "  print('Division of',num1,'/',num2,':',num1/num2)"
      ],
      "execution_count": 40,
      "outputs": [
        {
          "output_type": "stream",
          "text": [
            "Division of 40 / 20 : 2.0\n"
          ],
          "name": "stdout"
        }
      ]
    },
    {
      "cell_type": "markdown",
      "metadata": {
        "id": "BINH4Q3dv9Dj",
        "colab_type": "text"
      },
      "source": [
        "###***Q4: Consider a list of 10 elements of integer values. If the number in the list is divisible by 2, print the result as \"square of that number minus 2\".***\n",
        "---"
      ]
    },
    {
      "cell_type": "code",
      "metadata": {
        "id": "WEbN5MhHwFDH",
        "colab_type": "code",
        "colab": {
          "base_uri": "https://localhost:8080/",
          "height": 108
        },
        "outputId": "f80b61c7-fa69-40b5-b578-3e0dec255435"
      },
      "source": [
        "\n",
        "lst = [1,2,3,4,5,6,7,8,9,10]\n",
        "for i in lst:\n",
        "  if i%2 == 0 :\n",
        "    print('Square of',i,'** 2 - 2 :',i**2-2)\n",
        " "
      ],
      "execution_count": 73,
      "outputs": [
        {
          "output_type": "stream",
          "text": [
            "Square of 2 ** 2 - 2 : 2\n",
            "Square of 4 ** 2 - 2 : 14\n",
            "Square of 6 ** 2 - 2 : 34\n",
            "Square of 8 ** 2 - 2 : 62\n",
            "Square of 10 ** 2 - 2 : 98\n"
          ],
          "name": "stdout"
        }
      ]
    },
    {
      "cell_type": "markdown",
      "metadata": {
        "id": "EFEpylyPwci3",
        "colab_type": "text"
      },
      "source": [
        "###***Q5: Consider a list of 10 elements. Print all the elements in the list which are greater than 7 when that number is divided 2.***\n",
        "---"
      ]
    },
    {
      "cell_type": "code",
      "metadata": {
        "id": "Rp0mqCdcwlqc",
        "colab_type": "code",
        "colab": {
          "base_uri": "https://localhost:8080/",
          "height": 54
        },
        "outputId": "23be4822-fa8d-4002-8479-3713876df6f4"
      },
      "source": [
        "lst = [1,2,3,4,5,6,7,8,9,10]\n",
        "for i in lst:\n",
        "  if i > 7 and i%2 == 0:\n",
        "    print(i)"
      ],
      "execution_count": 72,
      "outputs": [
        {
          "output_type": "stream",
          "text": [
            "8\n",
            "10\n"
          ],
          "name": "stdout"
        }
      ]
    }
  ]
}